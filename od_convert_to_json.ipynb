{
 "cells": [
  {
   "cell_type": "code",
   "execution_count": 9,
   "metadata": {},
   "outputs": [
    {
     "data": {
      "text/plain": [
       "2960222"
      ]
     },
     "execution_count": 9,
     "metadata": {},
     "output_type": "execute_result"
    }
   ],
   "source": [
    "import pandas as pd\n",
    "import json\n",
    "data = pd.read_csv(r'od_true.csv')#6000000 )\n",
    "data.columns = ['taxi_id', 'Stime', 'start_Lng', 'start_Lat', 'Etime', 'end_Lng','end_Lat']\n",
    "data['x'] = 1\n",
    "startdf = data[['end_Lng','end_Lat','x']]\n",
    "result = startdf.to_json(orient=\"values\")\n",
    "parsed = json.loads(result)\n",
    "strx = json.dumps(parsed) \n",
    "fo = open(\"endodj.json\", \"w\")\n",
    "fo.write( strx)"
   ]
  },
  {
   "cell_type": "code",
   "execution_count": null,
   "metadata": {},
   "outputs": [],
   "source": []
  }
 ],
 "metadata": {
  "kernelspec": {
   "display_name": "Python 3",
   "language": "python",
   "name": "python3"
  },
  "language_info": {
   "codemirror_mode": {
    "name": "ipython",
    "version": 3
   },
   "file_extension": ".py",
   "mimetype": "text/x-python",
   "name": "python",
   "nbconvert_exporter": "python",
   "pygments_lexer": "ipython3",
   "version": "3.7.4"
  }
 },
 "nbformat": 4,
 "nbformat_minor": 2
}
