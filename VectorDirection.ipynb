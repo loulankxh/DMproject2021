{
 "cells": [
  {
   "cell_type": "code",
   "execution_count": null,
   "metadata": {},
   "outputs": [],
   "source": [
    "import pandas as pd\n",
    "\n",
    "data = pd.read_csv(r'sample_taxi.csv',nrows = 6000000)#6000000 )\n",
    "data.columns = ['VehicleNum', 'Stime', 'Lng', 'Lat', 'OpenStatus', 'Speed']\n",
    "data['timestamp'] = data['Stime'].str.slice(0,2).astype('int')*3600+data['Stime'].str.slice(3,5).astype('int')*60+data['Stime'].str.slice(6,8).astype('int')\n",
    "data = data.sort_values(by = ['VehicleNum','timestamp'])\n",
    "data"
   ]
  },
  {
   "cell_type": "code",
   "execution_count": null,
   "metadata": {},
   "outputs": [],
   "source": [
    "stime = data['Stime'].tolist()\n",
    "vn = data['VehicleNum'].tolist()\n",
    "lng = data['Lng'].tolist()\n",
    "lat = data['Lat'].tolist()\n",
    "status = data['OpenStatus'].tolist()\n",
    "timestamp = data['timestamp'].tolist()\n",
    "stime\n",
    "status"
   ]
  },
  {
   "cell_type": "code",
   "execution_count": null,
   "metadata": {},
   "outputs": [],
   "source": [
    "on_car = []\n",
    "off_car = []\n",
    "vector = []\n",
    "carnum = 0\n",
    "lng1 = 0\n",
    "lat1 = 0\n",
    "stime1 = 0\n",
    "timestamp1 = 0\n",
    "for i in range(0, 5999999):\n",
    "    if(vn[i] == vn[i+1] and status[i] == 0) and status[i+1] == 1:\n",
    "        on_car.append((lng[i], lat[i], stime[i]))\n",
    "        lng1 = lng[i]\n",
    "        lat1 = lat[i]\n",
    "        carnum = vn[i]\n",
    "        stime1 = stime[i]\n",
    "        timestamp1 = timestamp[i]\n",
    "    if(vn[i] == vn[i+1] and status[i] == 1) and status[i+1] == 0:\n",
    "        off_car.append((lng[i], lat[i], stime[i]))\n",
    "        if(carnum == vn[i]):\n",
    "            vector.append((lng1, lat1, lng[i], lat[i], stime1, timestamp1))\n",
    "print(len(on_car))\n",
    "print(len(off_car))\n",
    "print(len(vector))"
   ]
  },
  {
   "cell_type": "code",
   "execution_count": null,
   "metadata": {
    "scrolled": false
   },
   "outputs": [],
   "source": [
    "vector1 = []\n",
    "length = len(vector)\n",
    "for i in range(0, length):\n",
    "    vector1.append((vector[i][2]-vector[i][0], vector[i][3]-vector[i][1], vector[i][4], vector[i][5]))\n",
    "vector1"
   ]
  },
  {
   "cell_type": "code",
   "execution_count": null,
   "metadata": {},
   "outputs": [],
   "source": [
    "vector2 = []\n",
    "for i in range(0, 24):\n",
    "    vector2.append([0,0,0,i])\n",
    "for item in vector1:\n",
    "    a = (int)(item[3]/3600)\n",
    "    if item[0] < 1 and item[1] < 1:\n",
    "        vector2[a][0] += item[0]\n",
    "        vector2[a][1] += item[1]\n",
    "        vector2[a][2] += 1\n",
    "vector2\n",
    "lng2 = 0\n",
    "lat2 = 0\n",
    "for item in vector2:\n",
    "    lng2 += item[0]\n",
    "    lat2 += item[1]\n",
    "print(lng2, lat2)\n",
    "vector2"
   ]
  },
  {
   "cell_type": "code",
   "execution_count": null,
   "metadata": {},
   "outputs": [],
   "source": []
  }
 ],
 "metadata": {
  "kernelspec": {
   "display_name": "Python 3",
   "language": "python",
   "name": "python3"
  },
  "language_info": {
   "codemirror_mode": {
    "name": "ipython",
    "version": 3
   },
   "file_extension": ".py",
   "mimetype": "text/x-python",
   "name": "python",
   "nbconvert_exporter": "python",
   "pygments_lexer": "ipython3",
   "version": "3.7.0"
  }
 },
 "nbformat": 4,
 "nbformat_minor": 2
}
