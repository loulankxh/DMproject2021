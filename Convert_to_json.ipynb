{
 "cells": [
  {
   "cell_type": "code",
   "execution_count": 4,
   "metadata": {},
   "outputs": [],
   "source": [
    "import pandas as pd\n",
    "import pydeck as pdk\n",
    "import json\n"
   ]
  },
  {
   "cell_type": "code",
   "execution_count": 20,
   "metadata": {},
   "outputs": [
    {
     "data": {
      "text/plain": [
       "6982856"
      ]
     },
     "execution_count": 20,
     "metadata": {},
     "output_type": "execute_result"
    }
   ],
   "source": [
    "#mapbox_key = 'pk.eyJ1IjoiZm9jdXNtZXJjZXIiLCJhIjoiY2tvanl4Zmx5MGR3ejJvbzB6aHljOW54NCJ9.kcui2GlJM5DWsB6Zxd1iJQ'\n",
    "data = pd.read_csv(r'sample_taxi.csv',nrows = 60000)#6000000 )\n",
    "data.columns = ['VehicleNum', 'Stime', 'Lng', 'Lat', 'OpenStatus', 'Speed']\n",
    "\n",
    "data['coordinates'] = data.apply(lambda r:[r['Lng'],r['Lat']],axis = 1)\n",
    "data['timestamp'] = data['Stime'].str.slice(0,2).astype('int')*3600+data['Stime'].str.slice(3,5).astype('int')*60+data['Stime'].str.slice(6,8).astype('int')\n",
    "data = data.sort_values(by = ['VehicleNum','timestamp'])\n",
    "data['ip'] = data.apply(lambda r:[r['OpenStatus']],axis = 1)\n",
    "data['coordinates'] = data['coordinates'].apply(lambda r:[r])\n",
    "data['timestamp'] = data['timestamp'].apply(lambda r:[r])\n",
    "\n",
    "df = data.groupby('VehicleNum')['coordinates','timestamp','ip'].sum()\n",
    "df = df.reset_index()\n",
    "data = data.sort_values(by = 'timestamp')\n",
    "#df = pd.DataFrame([[list(data['coordinates'])],[list(data['timestamp'])]]).T\n",
    "#df.columns = ['coordinates','timestamp']\n",
    "#df.head(5)\n",
    "result = df.to_json(orient=\"records\")\n",
    "parsed = json.loads(result)\n",
    "strx = json.dumps(parsed, indent=4) \n",
    "fo = open(\"new_data_ip.json\", \"w\")\n",
    "fo.write( strx)"
   ]
  },
  {
   "cell_type": "code",
   "execution_count": null,
   "metadata": {},
   "outputs": [],
   "source": []
  }
 ],
 "metadata": {
  "kernelspec": {
   "display_name": "Python 3",
   "language": "python",
   "name": "python3"
  },
  "language_info": {
   "codemirror_mode": {
    "name": "ipython",
    "version": 3
   },
   "file_extension": ".py",
   "mimetype": "text/x-python",
   "name": "python",
   "nbconvert_exporter": "python",
   "pygments_lexer": "ipython3",
   "version": "3.7.4"
  }
 },
 "nbformat": 4,
 "nbformat_minor": 2
}
