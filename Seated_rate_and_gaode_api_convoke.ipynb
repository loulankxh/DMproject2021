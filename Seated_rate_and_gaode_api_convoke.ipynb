{
 "cells": [
  {
   "cell_type": "code",
   "execution_count": 1,
   "metadata": {},
   "outputs": [],
   "source": [
    "import pandas as pd\n",
    "import matplotlib.pyplot as plt"
   ]
  },
  {
   "cell_type": "code",
   "execution_count": 5,
   "metadata": {
    "scrolled": false
   },
   "outputs": [
    {
     "data": {
      "image/png": "[encoded data removed]",
      "text/plain": [
       "<Figure size 432x288 with 1 Axes>"
      ]
     },
     "metadata": {
      "needs_background": "light"
     },
     "output_type": "display_data"
    }
   ],
   "source": [
    "data = pd.read_csv(r'sample_taxi.csv',nrows = 6000000)#6000000 )\n",
    "data.columns = ['VehicleNum', 'Stime', 'Lng', 'Lat', 'OpenStatus', 'Speed']\n",
    "data['timestamp'] = data['Stime'].str.slice(0,2).astype('int')*3600+data['Stime'].str.slice(3,5).astype('int')*60+data['Stime'].str.slice(6,8).astype('int')\n",
    "data = data.sort_values(by = ['VehicleNum','timestamp'])\n",
    "problist = []\n",
    "def getprob(i):\n",
    "    datax = data[(data['timestamp']>(i*3600)) & (data['timestamp']<((i+1)*3600))]\n",
    "    timestamp = datax['timestamp'].values.tolist()\n",
    "    openstatus = datax['OpenStatus'].values.tolist()\n",
    "    carnum = datax['VehicleNum'].values.tolist()\n",
    "    initialcarnum = carnum[0]\n",
    "    seatedtimelist = []\n",
    "    seatedtimetotal = 0#record total seated time\n",
    "    timefrom = 0\n",
    "    timeto = 0\n",
    "    curstate = 0\n",
    "    for i in range(len(timestamp)):\n",
    "    #print(initialcarnum)\n",
    "    #print(seatedtimetotal)\n",
    "        if(carnum[i]!=initialcarnum):\n",
    "            if(curstate==1):\n",
    "                timeto = timestamp[i-1]\n",
    "                seatedtimetotal+=(timeto-timefrom)\n",
    "            if(seatedtimetotal!=0):\n",
    "                seatedtimelist.append(seatedtimetotal/3600)\n",
    "            seatedtimetotal = 0\n",
    "            initialcarnum = carnum[i]\n",
    "            curstate = openstatus[i]\n",
    "            if(curstate==0):\n",
    "                timefrom = 0\n",
    "                timeto = 0\n",
    "            else:\n",
    "                timefrom = timestamp[i]\n",
    "                timeto = 0\n",
    "            continue\n",
    "        if(openstatus[i]==0):\n",
    "            if(curstate==0):\n",
    "                continue\n",
    "            else:#结算\n",
    "                timeto = timestamp[i]\n",
    "            #print(\"here\")\n",
    "                if((timeto-timefrom)>10000):\n",
    "                #print(\"why2\")\n",
    "                    print((timeto,timefrom))\n",
    "                seatedtimetotal+=timeto-timefrom\n",
    "                curstate = 0\n",
    "        else:\n",
    "            if(curstate==0):\n",
    "                timefrom = timestamp[i]\n",
    "                curstate = 1\n",
    "            else:\n",
    "                curstate = 1\n",
    "                continue\n",
    "    problist.append(sum(seatedtimelist)/len(seatedtimelist))\n",
    "for i in range(24):\n",
    "    getprob(i)\n",
    "#getprob(0)\n",
    "#plt.bar(range(len(problist)), problist,color='rb')\n",
    "plt.bar(range(len(problist)), problist, color =  'g', align =  'center') \n",
    "#plt.title('Interesting Graph',fontsize='large'，fontweight='bold')\n",
    "plt.title('Seated rate over 24 hours',fontsize='large',fontweight='bold')\n",
    "#plt.legend()\n",
    "plt.ylabel('Seated rate') \n",
    "plt.xlabel('Hours in a day (h)')\n",
    "plt.show()\n",
    "#datax = data[(data['timestamp']>25200) & (data['timestamp']<32400)]\n",
    "#datax"
   ]
  },
  {
   "cell_type": "code",
   "execution_count": 6,
   "metadata": {},
   "outputs": [],
   "source": [
    "import requests\n",
    "import json"
   ]
  },
  {
   "cell_type": "code",
   "execution_count": 7,
   "metadata": {},
   "outputs": [],
   "source": [
    "def request_url_get(url):\n",
    "    \"\"\" 请求url方法get方法 \"\"\"\n",
    "    try:\n",
    "        r = requests.get(url=url, timeout=30)\n",
    "        if r.status_code == 200:\n",
    "            return r.text\n",
    "        return None\n",
    "    except RequestException:\n",
    "        print('请求url返回错误异常')\n",
    "        return None\n",
    "def parse_json(content_json):\n",
    "    \"\"\"  解析json函数 \"\"\"\n",
    "    result_json = json.loads(content_json)\n",
    "    return result_json\n",
    "\n",
    "def request_api(url):\n",
    "    \"\"\" 请求高德api 解析json \"\"\"\n",
    "    result = request_url_get(url)\n",
    "    result_json = parse_json(result)\n",
    "    return result_json\n",
    "    #return result"
   ]
  },
  {
   "cell_type": "code",
   "execution_count": 8,
   "metadata": {},
   "outputs": [],
   "source": [
    "datax1 = data[(data['timestamp']>25200) & (data['timestamp']<32400)]\n",
    "lng = datax1['Lng'].values.tolist()\n",
    "lat = datax1['Lat'].values.tolist()\n",
    "datax2 = data[(data['timestamp']>61200) & (data['timestamp']<68400)]\n",
    "strlist = []\n",
    "def run(lng,lat):\n",
    "    key = 'c27273d6d40b4bf705b47cd2f9ac7b61'\n",
    "    offset = 20\n",
    "\n",
    "    index_url = f'https://restapi.amap.com/v3/geocode/regeo?output=json&location={lng},{lat}&key={key}&radius=1000&extensions=base'\n",
    "    index_result = request_api(index_url)\n",
    "    strx = json.dumps(index_result, indent=4) \n",
    "    strlist.append(strx)\n",
    "\n",
    "#for i in range(len(lng)):\n",
    "#    run(lng[i],lat[i])\n",
    "#fo = open(\"gaode.json\", \"w\")\n",
    "#for x in strlist:\n",
    "#    fo.write(x)"
   ]
  },
  {
   "cell_type": "code",
   "execution_count": null,
   "metadata": {},
   "outputs": [],
   "source": []
  }
 ],
 "metadata": {
  "kernelspec": {
   "display_name": "Python 3",
   "language": "python",
   "name": "python3"
  },
  "language_info": {
   "codemirror_mode": {
    "name": "ipython",
    "version": 3
   },
   "file_extension": ".py",
   "mimetype": "text/x-python",
   "name": "python",
   "nbconvert_exporter": "python",
   "pygments_lexer": "ipython3",
   "version": "3.7.4"
  }
 },
 "nbformat": 4,
 "nbformat_minor": 2
}
